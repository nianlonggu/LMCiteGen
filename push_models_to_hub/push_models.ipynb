{
 "cells": [
  {
   "cell_type": "code",
   "execution_count": 1,
   "id": "32503044-0888-4992-bb17-c3076efadc99",
   "metadata": {},
   "outputs": [
    {
     "name": "stderr",
     "output_type": "stream",
     "text": [
      "/home/scieditor/anaconda3/envs/citgen/lib/python3.10/site-packages/tqdm/auto.py:21: TqdmWarning: IProgress not found. Please update jupyter and ipywidgets. See https://ipywidgets.readthedocs.io/en/stable/user_install.html\n",
      "  from .autonotebook import tqdm as notebook_tqdm\n"
     ]
    }
   ],
   "source": []
  },
  {
   "cell_type": "code",
   "execution_count": 1,
   "id": "2e36ce31-9b29-4b0b-b39f-dac815d3a287",
   "metadata": {},
   "outputs": [],
   "source": [
    "from transformers import AutoConfig, AutoModelForCausalLM, AutoTokenizer\n",
    "from transformers import BartForConditionalGeneration\n",
    "import torch\n",
    "for model_path, remote_path in [\n",
    "    ( \"../sft_model/galactica-125m-hf/checkpoint-5000\", \"nianlong/citgen-galactica-125m-sft\" ),\n",
    "    (\"../ppo_model/galactica-125m-hf\", \"nianlong/citgen-galactica-125m-ppo\"  ),\n",
    "    (\"../sft_model/galactica-1.3b-hf/checkpoint-3000\", \"nianlong/citgen-galactica-1.3b-sft\" ),\n",
    "    (\"../sft_model/galactica-6.7b-hf\", \"nianlong/citgen-galactica-6.7b-sft\" ),\n",
    "    (\"../ppo_model/galactica-6.7b-hf\", \"nianlong/citgen-galactica-6.7b-ppo\" ),\n",
    "    (\"../sft_model/gpt-neo-125m-hf/checkpoint-5000\", \"nianlong/citgen-gpt-neo-125m-sft\"  ),\n",
    "    (\"../sft_model/gpt-neo-1.3b-hf/checkpoint-5000\", \"nianlong/citgen-gpt-neo-1.3b-sft\" ),\n",
    "    (\"../sft_model/llama-7b-hf\", \"nianlong/citgen-llama-7b-sft\" ),\n",
    "    (\"../ppo_model/llama-7b-hf\", \"nianlong/citgen-llama-7b-ppo\" ),\n",
    "    (\"../sft_model/bart-base/checkpoint-5000\", \"nianlong/citgen-bart-base\"),\n",
    "    (\"../sft_model/bart-large/checkpoint-5000\", \"nianlong/citgen-bart-large\")\n",
    "]:\n",
    "    print(model_path, remote_path)\n",
    "    tokenizer = AutoTokenizer.from_pretrained( model_path )\n",
    "    \n",
    "    if \"bart-\" in model_path:\n",
    "        model = BartForConditionalGeneration.from_pretrained( model_path, torch_dtype=torch.float16 )\n",
    "    else:\n",
    "        model = AutoModelForCausalLM.from_pretrained( model_path, torch_dtype=torch.float16 )\n",
    "    \n",
    "    tokenizer.push_to_hub( remote_path )\n",
    "    model.push_to_hub( remote_path )"
   ]
  },
  {
   "cell_type": "code",
   "execution_count": null,
   "id": "b27c5bb9-40eb-4e56-a611-d8b19ae51008",
   "metadata": {},
   "outputs": [],
   "source": []
  }
 ],
 "metadata": {
  "kernelspec": {
   "display_name": "Python [conda env:citgen]",
   "language": "python",
   "name": "conda-env-citgen-py"
  },
  "language_info": {
   "codemirror_mode": {
    "name": "ipython",
    "version": 3
   },
   "file_extension": ".py",
   "mimetype": "text/x-python",
   "name": "python",
   "nbconvert_exporter": "python",
   "pygments_lexer": "ipython3",
   "version": "3.10.11"
  }
 },
 "nbformat": 4,
 "nbformat_minor": 5
}
