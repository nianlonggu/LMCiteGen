{
 "cells": [
  {
   "cell_type": "code",
   "execution_count": 10,
   "id": "b1e8a07c-48c5-40e7-a6bc-22cc07d04f65",
   "metadata": {},
   "outputs": [],
   "source": [
    "import json\n",
    "import os\n",
    "from glob import glob\n",
    "from copy import deepcopy"
   ]
  },
  {
   "cell_type": "code",
   "execution_count": 2,
   "id": "5877bb85-8ce5-462e-b947-36e63d825bcd",
   "metadata": {},
   "outputs": [],
   "source": [
    "flist = glob(\"results/test_with_chatgpt_citations.jsonl_*\")"
   ]
  },
  {
   "cell_type": "code",
   "execution_count": 4,
   "id": "b7f3e955-2660-418f-be09-6717c08f5b30",
   "metadata": {},
   "outputs": [],
   "source": [
    "flist = sorted( flist, key = lambda x:int(x.split(\"_\")[-1]) )"
   ]
  },
  {
   "cell_type": "code",
   "execution_count": 17,
   "id": "46554522-f014-4fa6-a4eb-6bd4e909dad6",
   "metadata": {},
   "outputs": [],
   "source": [
    "corpus = []\n",
    "for fname in flist:\n",
    "    corpus += [ json.loads(line) for line in open(fname) ]"
   ]
  },
  {
   "cell_type": "code",
   "execution_count": 18,
   "id": "0f967eb1-5fe4-4ee4-a0fd-4498f985a718",
   "metadata": {},
   "outputs": [],
   "source": [
    "for example in corpus:\n",
    "    generated_citations = deepcopy(example[\"generated_citations\"])\n",
    "    for item in generated_citations:\n",
    "        assert item[\"text\"] is not None\n",
    "        item[\"generation\"] = {\"citation\":item[\"text\"]}\n",
    "        del item[\"text\"]\n",
    "    example[\"generated_citations\"] = generated_citations"
   ]
  },
  {
   "cell_type": "code",
   "execution_count": 19,
   "id": "66fe7e92-cea5-454c-8a9e-3d3ad7eaadce",
   "metadata": {},
   "outputs": [],
   "source": [
    "with open(\"results/test_with_chatgpt_citations_merged.jsonl\", \"w\") as fw:\n",
    "    for example in corpus:\n",
    "        fw.write(json.dumps( example ) + \"\\n\")"
   ]
  },
  {
   "cell_type": "code",
   "execution_count": null,
   "id": "6a344ce8-0c4f-4ad1-a4d2-02a56145fa07",
   "metadata": {},
   "outputs": [],
   "source": []
  }
 ],
 "metadata": {
  "kernelspec": {
   "display_name": "Python [conda env:trl]",
   "language": "python",
   "name": "conda-env-trl-py"
  },
  "language_info": {
   "codemirror_mode": {
    "name": "ipython",
    "version": 3
   },
   "file_extension": ".py",
   "mimetype": "text/x-python",
   "name": "python",
   "nbconvert_exporter": "python",
   "pygments_lexer": "ipython3",
   "version": "3.10.11"
  }
 },
 "nbformat": 4,
 "nbformat_minor": 5
}
