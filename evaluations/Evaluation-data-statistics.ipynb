{
 "cells": [
  {
   "cell_type": "code",
   "execution_count": 1,
   "id": "b2da0844-3a8f-4fc7-b9e5-252340b953a1",
   "metadata": {},
   "outputs": [],
   "source": [
    "import json"
   ]
  },
  {
   "cell_type": "code",
   "execution_count": 2,
   "id": "4c59f36a-9c09-4593-a708-8db7c310119d",
   "metadata": {},
   "outputs": [],
   "source": [
    "train_corpus = [ json.loads(line) for line in open( \"../data/train.jsonl\" ) ]"
   ]
  },
  {
   "cell_type": "code",
   "execution_count": 3,
   "id": "1e61862b-209e-48d5-a01a-b82eb6e60be9",
   "metadata": {},
   "outputs": [],
   "source": [
    "val_corpus = [ json.loads(line) for line in open( \"../data/val.jsonl\" ) ]"
   ]
  },
  {
   "cell_type": "code",
   "execution_count": 4,
   "id": "443f3111-fed7-4142-b717-4adfaad8bbef",
   "metadata": {},
   "outputs": [],
   "source": [
    "test_corpus = [ json.loads(line) for line in open( \"../data/test.jsonl\" ) ]"
   ]
  },
  {
   "cell_type": "code",
   "execution_count": 5,
   "id": "d8245180-0a4e-4dcc-a17d-5b49e2c50412",
   "metadata": {},
   "outputs": [
    {
     "name": "stdout",
     "output_type": "stream",
     "text": [
      "233616\n",
      "120425\n",
      "69664\n"
     ]
    }
   ],
   "source": [
    "corpus = train_corpus\n",
    "print(len(corpus))\n",
    "citing_papers = []\n",
    "cited_papers = []\n",
    "for example in corpus:\n",
    "    citing_papers.append( example[\"citing_id\"] )\n",
    "    cited_papers.append( example[\"cited_id\"] )\n",
    "\n",
    "print(len(set(citing_papers)))\n",
    "print(len(set(cited_papers)))"
   ]
  },
  {
   "cell_type": "code",
   "execution_count": 6,
   "id": "6546d0cc-45fc-4647-b56b-626f59b37335",
   "metadata": {},
   "outputs": [
    {
     "name": "stdout",
     "output_type": "stream",
     "text": [
      "1299\n",
      "1175\n",
      "998\n"
     ]
    }
   ],
   "source": [
    "corpus = val_corpus\n",
    "print(len(corpus))\n",
    "citing_papers = []\n",
    "cited_papers = []\n",
    "for example in corpus:\n",
    "    citing_papers.append( example[\"citing_id\"] )\n",
    "    cited_papers.append( example[\"cited_id\"] )\n",
    "\n",
    "print(len(set(citing_papers)))\n",
    "print(len(set(cited_papers)))"
   ]
  },
  {
   "cell_type": "code",
   "execution_count": 7,
   "id": "2cd322c1-a561-4313-a7af-5d9e499cec67",
   "metadata": {},
   "outputs": [
    {
     "name": "stdout",
     "output_type": "stream",
     "text": [
      "1080\n",
      "1005\n",
      "846\n"
     ]
    }
   ],
   "source": [
    "corpus = test_corpus\n",
    "print(len(corpus))\n",
    "citing_papers = []\n",
    "cited_papers = []\n",
    "for example in corpus:\n",
    "    citing_papers.append( example[\"citing_id\"] )\n",
    "    cited_papers.append( example[\"cited_id\"] )\n",
    "\n",
    "print(len(set(citing_papers)))\n",
    "print(len(set(cited_papers)))"
   ]
  },
  {
   "cell_type": "code",
   "execution_count": null,
   "id": "3688ab28-2984-4a98-8a8a-08cf9616f846",
   "metadata": {},
   "outputs": [],
   "source": []
  }
 ],
 "metadata": {
  "kernelspec": {
   "display_name": "Python [conda env:trl]",
   "language": "python",
   "name": "conda-env-trl-py"
  },
  "language_info": {
   "codemirror_mode": {
    "name": "ipython",
    "version": 3
   },
   "file_extension": ".py",
   "mimetype": "text/x-python",
   "name": "python",
   "nbconvert_exporter": "python",
   "pygments_lexer": "ipython3",
   "version": "3.10.11"
  }
 },
 "nbformat": 4,
 "nbformat_minor": 5
}
