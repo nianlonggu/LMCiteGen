{
 "cells": [
  {
   "cell_type": "code",
   "execution_count": 2,
   "id": "7f3bac4b-0842-4d72-97d5-11e013e56251",
   "metadata": {},
   "outputs": [],
   "source": [
    "import json\n",
    "from tqdm import tqdm\n",
    "import numpy as np\n",
    "import evaluate\n",
    "from rouge_score import rouge_scorer"
   ]
  },
  {
   "cell_type": "code",
   "execution_count": 3,
   "id": "d66e2c6d-fc19-4844-87f7-578b9530ac70",
   "metadata": {},
   "outputs": [],
   "source": [
    "rouge = rouge_scorer.RougeScorer(['rouge1'], use_stemmer=True)"
   ]
  },
  {
   "cell_type": "code",
   "execution_count": 4,
   "id": "135b749d-f3ab-4595-891c-aaf2d3ccc861",
   "metadata": {},
   "outputs": [],
   "source": [
    "def eval_attributes_matching_score( flag, data_path ):\n",
    "    corpus = [ json.loads(line) for line in open(data_path) ]\n",
    "    R1_precision_list = []\n",
    "    R1_recall_list = []\n",
    "    R1_F1_list = []\n",
    "    intent_match_list = []\n",
    "    \n",
    "    for example in corpus:\n",
    "        gen_info = example[\"generated_citations\"][0][\"generation\"]\n",
    "        gen_keywords = gen_info[\"keywords\"]\n",
    "        gen_intent = gen_info[\"citation_intent\"]\n",
    "    \n",
    "        label_keywords = \"; \".join( example[\"keywords\"] )\n",
    "        label_intent = example[\"citation_intent\"]\n",
    "\n",
    "        intent_match_list.append( int( label_intent == gen_intent ) )\n",
    "        r_score = rouge.score( label_keywords, gen_keywords )[\"rouge1\"]\n",
    "\n",
    "        R1_precision_list.append( r_score.precision )\n",
    "        R1_recall_list.append( r_score.recall )\n",
    "        R1_F1_list.append( r_score.fmeasure )\n",
    "    \n",
    "    return flag + \" & \" + \" & \".join([ \"%.2f\"%(np.round(np.mean(R1_precision_list)* 100 , 2) ), \n",
    "                       \"%.2f\"%(np.round(np.mean(R1_recall_list)* 100, 2) ), \n",
    "                       \"%.2f\"%(np.round(np.mean(R1_F1_list)* 100, 2) ), \n",
    "                       \"%.4f\"%(np.round(np.mean( intent_match_list ), 4) )               \n",
    "                    ]) + \" \\\\\\\\\" "
   ]
  },
  {
   "cell_type": "code",
   "execution_count": 5,
   "id": "40306f9c-2473-4159-a150-0fc4f22d3e31",
   "metadata": {},
   "outputs": [
    {
     "name": "stdout",
     "output_type": "stream",
     "text": [
      "BART-base-140M & 22.05 & 16.70 & 17.62 & 0.6083 \\\\\n",
      "BART-large-400M & 24.92 & 18.47 & 19.68 & 0.6454 \\\\\n",
      "GPT-Neo-125M & 21.10 & 16.36 & 17.13 & 0.5861 \\\\\n",
      "GPT-Neo-1.3B & 28.00 & 23.18 & 23.58 & 0.6352 \\\\\n",
      "Galactica-125M & 26.15 & 21.86 & 22.11 & 0.6204 \\\\\n",
      "Galactica-125M-PPO & 24.80 & 20.84 & 21.06 & 0.6296 \\\\\n",
      "Galactica-1.3B & 29.89 & 25.53 & 25.86 & 0.6602 \\\\\n",
      "Galactica-6.7B & 29.49 & 24.78 & 25.10 & 0.6380 \\\\\n",
      "Galactica-6.7B-PPO & 30.03 & 25.92 & 25.93 & 0.6407 \\\\\n",
      "LLaMa-7B & 28.13 & 22.78 & 23.40 & 0.6352 \\\\\n",
      "LLaMa-7B-PPO & 28.57 & 23.39 & 23.97 & 0.6315 \\\\\n"
     ]
    }
   ],
   "source": [
    "eval_results = []\n",
    "for flag, data_path in [\n",
    "    ( \"BART-base-140M\", \"../results/sft_model/bart-base/test_with_citations.jsonl\"  ),\n",
    "    ( \"BART-large-400M\", \"../results/sft_model/bart-large/test_with_citations.jsonl\"  ),\n",
    "    ( \"GPT-Neo-125M\", \"../results/sft_model/gpt-neo-125m-hf/test_with_citations.jsonl\"  ),\n",
    "    ( \"GPT-Neo-1.3B\", \"../results/sft_model/gpt-neo-1.3b-hf/test_with_citations.jsonl\"  ),\n",
    "    ( \"Galactica-125M\", \"../results/sft_model/galactica-125m-ct2/test_with_citations.jsonl\"  ),\n",
    "    ( \"Galactica-125M-PPO\", \"../results/ppo_model/galactica-125m-ct2/test_with_citations.jsonl\"  ),\n",
    "    ( \"Galactica-1.3B\", \"../results/sft_model/galactica-1.3b-ct2/test_with_citations.jsonl\"  ),\n",
    "    ( \"Galactica-6.7B\", \"../results/sft_model/galactica-6.7b-ct2/test_with_citations.jsonl\"  ),\n",
    "    ( \"Galactica-6.7B-PPO\", \"../results/ppo_model/galactica-6.7b-ct2/test_with_citations.jsonl\"  ),\n",
    "    ( \"LLaMa-7B\", \"../results/sft_model/llama-7b-ct2/test_with_citations.jsonl\"  ),\n",
    "    ( \"LLaMa-7B-PPO\", \"../results/ppo_model/llama-7b-ct2/test_with_citations.jsonl\"  ),\n",
    "]:\n",
    "    eval_results.append( eval_attributes_matching_score( flag, data_path ) )\n",
    "    \n",
    "print(\"\\n\".join(eval_results))"
   ]
  },
  {
   "cell_type": "code",
   "execution_count": null,
   "id": "034c4fd4-f4f8-4e52-bfe3-8782189ae491",
   "metadata": {},
   "outputs": [],
   "source": []
  }
 ],
 "metadata": {
  "kernelspec": {
   "display_name": "Python [conda env:trl]",
   "language": "python",
   "name": "conda-env-trl-py"
  },
  "language_info": {
   "codemirror_mode": {
    "name": "ipython",
    "version": 3
   },
   "file_extension": ".py",
   "mimetype": "text/x-python",
   "name": "python",
   "nbconvert_exporter": "python",
   "pygments_lexer": "ipython3",
   "version": "3.10.11"
  }
 },
 "nbformat": 4,
 "nbformat_minor": 5
}
