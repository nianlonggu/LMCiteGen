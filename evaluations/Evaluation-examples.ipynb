{
 "cells": [
  {
   "cell_type": "code",
   "execution_count": 16,
   "id": "6f81d06e-4d09-45be-bbfd-77544e905350",
   "metadata": {},
   "outputs": [],
   "source": [
    "import json\n",
    "import evaluate\n",
    "from tqdm import tqdm"
   ]
  },
  {
   "cell_type": "code",
   "execution_count": 2,
   "id": "d005fa3d-75c0-4ffb-ba49-2ffadd397190",
   "metadata": {},
   "outputs": [],
   "source": [
    "rouge = evaluate.load(\"rouge\")"
   ]
  },
  {
   "cell_type": "code",
   "execution_count": 21,
   "id": "a7548a9b-2c20-408b-96e8-c01cd099832c",
   "metadata": {},
   "outputs": [],
   "source": [
    "corpus = [ json.loads(line) for line in open(\"../results/ppo_model/galactica-6.7b-ct2/test_with_citations.jsonl\") ]"
   ]
  },
  {
   "cell_type": "code",
   "execution_count": 22,
   "id": "be817ee8-d9f4-496e-851f-6a5f1c7490c7",
   "metadata": {},
   "outputs": [
    {
     "data": {
      "text/plain": [
       "484"
      ]
     },
     "execution_count": 22,
     "metadata": {},
     "output_type": "execute_result"
    }
   ],
   "source": [
    "corpus = [ item for item in corpus if len(item[\"keywords\"]) == 1 and len(item[\"citation\"].split() )>=20 ]\n",
    "len(corpus)"
   ]
  },
  {
   "cell_type": "code",
   "execution_count": 23,
   "id": "e9343c04-eae8-42c4-8327-d91e2c0faa0a",
   "metadata": {},
   "outputs": [
    {
     "name": "stderr",
     "output_type": "stream",
     "text": [
      "100%|██████████████████████████████████████████████████████████████████████████████████████| 484/484 [03:01<00:00,  2.67it/s]\n"
     ]
    }
   ],
   "source": [
    "corpus_subset = []\n",
    "for example in tqdm(corpus):\n",
    "    score1 = rouge.compute(predictions=[ example[\"generated_citations\"][0][\"generation\"][\"citation\"] ], references=[ example[\"citation\"] ])[\"rougeL\"]\n",
    "    score2 = rouge.compute(predictions=[ example[\"generated_citations\"][1][\"generation\"][\"citation\"] ], references=[ example[\"citation\"] ])[\"rougeL\"]\n",
    "    score3 = rouge.compute(predictions=[ example[\"generated_citations\"][2][\"generation\"][\"citation\"] ], references=[ example[\"citation\"] ])[\"rougeL\"]\n",
    "    if score1< score2 and score2 < score3:\n",
    "        example[\"scores\"] = [score1, score2, score3]\n",
    "        corpus_subset.append(example)"
   ]
  },
  {
   "cell_type": "code",
   "execution_count": 31,
   "id": "3dcb75b7-ae43-47cd-acf0-5237e4525550",
   "metadata": {},
   "outputs": [
    {
     "name": "stdout",
     "output_type": "stream",
     "text": [
      "0 [0.0909090909090909, 0.09876543209876544, 0.21052631578947364]\n",
      "1 [0.16216216216216214, 0.17142857142857143, 0.23809523809523808]\n",
      "2 [0.12244897959183673, 0.35714285714285715, 0.409090909090909]\n",
      "3 [0.11320754716981131, 0.14285714285714285, 0.1923076923076923]\n",
      "4 [0.20689655172413793, 0.4444444444444444, 0.5238095238095238]\n",
      "5 [0.14634146341463414, 0.15789473684210525, 0.1951219512195122]\n",
      "6 [0.17391304347826086, 0.1818181818181818, 0.2553191489361702]\n",
      "7 [0.09523809523809523, 0.16326530612244897, 0.34615384615384615]\n",
      "8 [0.11538461538461538, 0.1509433962264151, 0.2592592592592593]\n",
      "9 [0.04081632653061224, 0.14285714285714285, 0.21739130434782608]\n",
      "10 [0.10714285714285714, 0.20408163265306123, 0.2916666666666667]\n",
      "11 [0.23529411764705882, 0.24, 0.2916666666666667]\n",
      "12 [0.1951219512195122, 0.20512820512820512, 0.4347826086956522]\n",
      "13 [0.09230769230769231, 0.14814814814814814, 0.23076923076923075]\n",
      "14 [0.16666666666666669, 0.1923076923076923, 0.20408163265306123]\n",
      "15 [0.13793103448275862, 0.18461538461538463, 0.25396825396825395]\n",
      "16 [0.14545454545454545, 0.18867924528301885, 0.22222222222222224]\n",
      "17 [0.2105263157894737, 0.2545454545454545, 0.3461538461538462]\n",
      "18 [0.17721518987341772, 0.32876712328767116, 0.39473684210526316]\n",
      "19 [0.11594202898550725, 0.16666666666666666, 0.23076923076923075]\n",
      "20 [0.2413793103448276, 0.34615384615384615, 0.5000000000000001]\n",
      "21 [0.13636363636363635, 0.16666666666666666, 0.1818181818181818]\n",
      "22 [0.12121212121212123, 0.23076923076923075, 0.2456140350877193]\n",
      "23 [0.10909090909090909, 0.17777777777777776, 0.24999999999999994]\n",
      "24 [0.07692307692307691, 0.1111111111111111, 0.22222222222222224]\n",
      "25 [0.08695652173913043, 0.20408163265306123, 0.23255813953488372]\n",
      "26 [0.1951219512195122, 0.2127659574468085, 0.28]\n",
      "27 [0.2631578947368421, 0.3255813953488372, 0.6]\n",
      "28 [0.13636363636363635, 0.17142857142857143, 0.17857142857142858]\n",
      "29 [0.08695652173913045, 0.17777777777777776, 0.28571428571428575]\n",
      "30 [0.14705882352941174, 0.16666666666666666, 0.17543859649122806]\n",
      "31 [0.13333333333333333, 0.26666666666666666, 0.27906976744186046]\n",
      "32 [0.11764705882352941, 0.1395348837209302, 0.16]\n",
      "33 [0.18181818181818182, 0.20833333333333331, 0.26666666666666666]\n",
      "34 [0.16326530612244897, 0.1923076923076923, 0.29090909090909095]\n",
      "35 [0.05, 0.060606060606060615, 0.2631578947368421]\n",
      "36 [0.1724137931034483, 0.18461538461538463, 0.2727272727272727]\n",
      "37 [0.35999999999999993, 0.3673469387755102, 0.6511627906976745]\n",
      "38 [0.08163265306122448, 0.11764705882352941, 0.25531914893617025]\n",
      "39 [0.13793103448275862, 0.19047619047619047, 0.25]\n",
      "40 [0.0975609756097561, 0.11764705882352941, 0.2127659574468085]\n",
      "41 [0.1509433962264151, 0.16326530612244897, 0.28]\n",
      "42 [0.13793103448275865, 0.14492753623188406, 0.15151515151515152]\n",
      "43 [0.11538461538461539, 0.13333333333333333, 0.2272727272727273]\n",
      "44 [0.0689655172413793, 0.0909090909090909, 0.14084507042253522]\n",
      "45 [0.12000000000000002, 0.15384615384615385, 0.32]\n",
      "46 [0.1587301587301587, 0.2456140350877193, 0.35555555555555557]\n",
      "47 [0.16, 0.1904761904761905, 0.2666666666666666]\n",
      "48 [0.22222222222222224, 0.6222222222222222, 0.6530612244897959]\n",
      "49 [0.2127659574468085, 0.30769230769230765, 0.37288135593220334]\n",
      "50 [0.13559322033898305, 0.19607843137254902, 0.32653061224489793]\n",
      "51 [0.2222222222222222, 0.25, 0.3157894736842105]\n",
      "52 [0.3773584905660377, 0.39215686274509803, 0.47826086956521735]\n",
      "53 [0.1818181818181818, 0.5714285714285715, 0.5777777777777778]\n",
      "54 [0.14035087719298245, 0.2857142857142857, 0.47058823529411764]\n"
     ]
    }
   ],
   "source": [
    "for count, example in enumerate( corpus_subset ):    \n",
    "    print(count, example[\"scores\"])"
   ]
  },
  {
   "cell_type": "code",
   "execution_count": 114,
   "id": "42df5a99-2304-4340-8c0a-6eea02fb0e11",
   "metadata": {},
   "outputs": [],
   "source": [
    "example = corpus_subset[43]"
   ]
  },
  {
   "cell_type": "code",
   "execution_count": 115,
   "id": "ac743b53-38ae-4e70-a849-16af5387dee3",
   "metadata": {},
   "outputs": [],
   "source": [
    "class color:\n",
    "   PURPLE = '\\033[95m'\n",
    "   CYAN = '\\033[96m'\n",
    "   DARKCYAN = '\\033[36m'\n",
    "   BLUE = '\\033[94m'\n",
    "   GREEN = '\\033[92m'\n",
    "   YELLOW = '\\033[93m'\n",
    "   RED = '\\033[91m'\n",
    "   BOLD = '\\033[1m'\n",
    "   UNDERLINE = '\\033[4m'\n",
    "   END = '\\033[0m'"
   ]
  },
  {
   "cell_type": "code",
   "execution_count": 116,
   "id": "8f9fcf96-4e2e-41e6-bc82-2e755edbe6c9",
   "metadata": {},
   "outputs": [
    {
     "name": "stdout",
     "output_type": "stream",
     "text": [
      "\u001b[95m\u001b[1mCited Paper:\u001b[0m\n",
      "\u001b[1m    Title:     \u001b[0mOptimal Scheduling For Discounted Age Penalty Minimization In Multi-Loop Networked Control\n",
      "\u001b[1m    Abstract:  \u001b[0mAge-of-information (AoI) is a metric quantifying information freshness at the receiver. Since AoI combines packet generation frequency, packet loss, and delay into a single metric, it has received a lot of research attention as an interface between communication network and application. In this work, we apply AoI to the problem of wireless scheduling for multi-loop networked control systems (NCS), i.e., feedback control loops closed over a shared wireless network. We model the scheduling problem as a Markov decision process (MDP) with AoI as its observable states and derive a relation of control system error and AoI. We further derive a stationary scheduling policy to minimize control error over an infinite horizon. We show that our scheduler outperforms the state-of-the-art scheduling policies for NCS. To the best of our knowledge, this is the first work proposing an AoI-based wireless scheduling policy that minimizes the control error over an infinite horizon for multi-loop NCS.\n",
      "\n",
      "\u001b[95m\u001b[1mManuscript:\u001b[0m\n",
      "\u001b[1m    Title:     \u001b[0mLarge Population Games On Constrained Unreliable Networks\n",
      "\u001b[1m    Abstract:  \u001b[0mThis paper studies an N-agent cost-coupled game where the agents are connected via an unreliable capacity constrained network. Each agent receives state information over that network which loses packets with probability p. A Base station (BS) actively schedules agent communications over the network by minimizing a weighted Age of Information (WAoI) based cost function under a capacity limit C < N on the number of transmission attempts at each instant. Under a standard information structure, we show that the problem can be decoupled into a scheduling problem for the BS and a game problem for the N agents. Since the scheduling problem is an NP hard combinatorics problem, we propose an approximately optimal solution which approaches the optimal solution as N → ∞. In the process, we also provide some insights on the case without channel erasure. Next, to solve the large population game problem, we use the mean-field game framework to compute an approximate decentralized Nash equilibrium. Finally, we validate the theoretical results using a numerical example.\n",
      "\u001b[1m    Text Before Citation:  \u001b[0mFurther, we improve upon the convergence guarantees in #OTHEREFR for the case where the network is erasure free by proposing a novel scheduling policy. Finally, we employ this policy to construct an approximate Nash solution for the finite-agent consensus problem. In literature, the early works #OTHEREFR , #OTHEREFR have dealt with an optimal control problem with unreliable communication, albeit, for a single agent system and an unconstrained network under the TCP and the UDP communication protocols. The work #OTHEREFR extends the setting to multi-agent games; however, the considered network is unconstrained. In order to measure timeliness in communication networks, age of information (AoI) has been introduced as a potential metric.\n",
      "\n",
      "\u001b[95m\u001b[1mGround-truth Citation Sentence:\u001b[0m\n",
      "    In the context of networked feedback systems, the AoI-based policies have been proposed for solving resource allocation and enduser uncertainty reduction problems as in #REFR .\n",
      "\n",
      "\u001b[95m\u001b[1mGenerated Citation Sentences:\u001b[0m\n",
      "\u001b[36m\u001b[1mUncontrolled Mode:\u001b[0m\n",
      "\u001b[1m    Citation Intent: \u001b[0mN/A\n",
      "\u001b[1m    Keywords: \u001b[0mN/A\n",
      "\u001b[1m    Generation: \u001b[0mThe work #REFR studies a wireless scheduling problem for multi-loop networked control systems (NCS), i.e., feedback control loops closed over a shared wireless network.\n",
      "\u001b[1m    ROUGE F1: \u001b[0mR1: 23.08 R2: 0.00 RL: 11.54\n",
      "\n",
      "\u001b[36m\u001b[1mIntent-controlled Mode:\u001b[0m\n",
      "\u001b[1m    Citation Intent: \u001b[0mmethod\n",
      "\u001b[1m    Keywords: \u001b[0mN/A\n",
      "\u001b[1m    Generation: \u001b[0mThe authors in #REFR have used AoI to solve a wireless scheduling problem for multi-loop networked control systems.\n",
      "\u001b[1m    ROUGE F1: \u001b[0mR1: 35.56 R2: 4.65 RL: 13.33\n",
      "\n",
      "\u001b[36m\u001b[1mIntent- and keywords-controlled Mode:\u001b[0m\n",
      "\u001b[1m    Citation Intent: \u001b[0mmethod\n",
      "\u001b[1m    Keywords: \u001b[0mnetworked feedback systems\n",
      "\u001b[1m    Generation: \u001b[0mThe work #REFR proposes an optimal scheduling policy for a multi-loop networked feedback systems based on AoI.\n",
      "\u001b[1m    ROUGE F1: \u001b[0mR1: 36.36 R2: 9.52 RL: 22.73\n",
      "\n"
     ]
    }
   ],
   "source": [
    "print( color.PURPLE + color.BOLD +  \"Cited Paper:\" + color.END )\n",
    "# print()\n",
    "print( color.BOLD +  \"    Title:     \" + color.END + example[\"cited_paper_content\"][\"title\"] )\n",
    "print( color.BOLD +  \"    Abstract:  \" + color.END + example[\"cited_paper_content\"][\"abstract\"] )\n",
    "print()\n",
    "print( color.PURPLE + color.BOLD +  \"Manuscript:\" + color.END )\n",
    "# print()\n",
    "print( color.BOLD +  \"    Title:     \" + color.END + example[\"citing_paper_content\"][\"title\"] )\n",
    "print( color.BOLD +  \"    Abstract:  \" + color.END + example[\"citing_paper_content\"][\"abstract\"] )\n",
    "# print()\n",
    "print( color.BOLD +  \"    Text Before Citation:  \" + color.END + \" \".join(example[\"text_before_citation\"]) )\n",
    "print()\n",
    "print( color.PURPLE + color.BOLD +  \"Ground-truth Citation Sentence:\" + color.END )\n",
    "print( \"    \"+example[\"citation\"] )\n",
    "print()\n",
    "print( color.PURPLE + color.BOLD +  \"Generated Citation Sentences:\" + color.END )\n",
    "# print()\n",
    "print( color.DARKCYAN + color.BOLD +  \"Uncontrolled Mode:\" + color.END )\n",
    "print( color.BOLD +  \"    Citation Intent: \"+ color.END +\"N/A\"  )\n",
    "print( color.BOLD +  \"    Keywords: \"+ color.END +\"N/A\"  )\n",
    "print( color.BOLD +  \"    Generation: \"+ color.END +example[\"generated_citations\"][0][\"generation\"][\"citation\"]  )\n",
    "score = rouge.compute( predictions=[example[\"generated_citations\"][0][\"generation\"][\"citation\"]],\n",
    "                       references=[example[\"citation\"]]\n",
    "                     )\n",
    "print( color.BOLD +  \"    ROUGE F1: \"+ color.END + \"R1: %.2f R2: %.2f RL: %.2f\" %( score[\"rouge1\"]*100,score[\"rouge2\"]*100,score[\"rougeL\"]*100 )  )\n",
    "print()\n",
    "\n",
    "print( color.DARKCYAN + color.BOLD +  \"Intent-controlled Mode:\" + color.END )\n",
    "print( color.BOLD +  \"    Citation Intent: \"+ color.END + example[\"citation_intent\"]  )\n",
    "print( color.BOLD +  \"    Keywords: \"+ color.END +\"N/A\"  )\n",
    "print( color.BOLD +  \"    Generation: \"+ color.END +example[\"generated_citations\"][1][\"generation\"][\"citation\"]  )\n",
    "score = rouge.compute( predictions=[example[\"generated_citations\"][1][\"generation\"][\"citation\"]],\n",
    "                       references=[example[\"citation\"]]\n",
    "                     )\n",
    "print( color.BOLD +  \"    ROUGE F1: \"+ color.END + \"R1: %.2f R2: %.2f RL: %.2f\" %( score[\"rouge1\"]*100,score[\"rouge2\"]*100,score[\"rougeL\"]*100 )  )\n",
    "print()\n",
    "\n",
    "print( color.DARKCYAN + color.BOLD +  \"Intent- and keywords-controlled Mode:\" + color.END )\n",
    "print( color.BOLD +  \"    Citation Intent: \"+ color.END + example[\"citation_intent\"]  )\n",
    "print( color.BOLD +  \"    Keywords: \"+ color.END +\"; \".join(example[\"keywords\"])  )\n",
    "print( color.BOLD +  \"    Generation: \"+ color.END +example[\"generated_citations\"][2][\"generation\"][\"citation\"]  )\n",
    "score = rouge.compute( predictions=[example[\"generated_citations\"][2][\"generation\"][\"citation\"]],\n",
    "                       references=[example[\"citation\"]]\n",
    "                     )\n",
    "print( color.BOLD +  \"    ROUGE F1: \"+ color.END + \"R1: %.2f R2: %.2f RL: %.2f\" %( score[\"rouge1\"]*100,score[\"rouge2\"]*100,score[\"rougeL\"]*100 )  )\n",
    "print()"
   ]
  }
 ],
 "metadata": {
  "kernelspec": {
   "display_name": "Python [conda env:trl]",
   "language": "python",
   "name": "conda-env-trl-py"
  },
  "language_info": {
   "codemirror_mode": {
    "name": "ipython",
    "version": 3
   },
   "file_extension": ".py",
   "mimetype": "text/x-python",
   "name": "python",
   "nbconvert_exporter": "python",
   "pygments_lexer": "ipython3",
   "version": "3.10.11"
  }
 },
 "nbformat": 4,
 "nbformat_minor": 5
}
