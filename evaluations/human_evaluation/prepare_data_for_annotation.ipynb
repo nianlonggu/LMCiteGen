{
 "cells": [
  {
   "cell_type": "code",
   "execution_count": 1,
   "id": "d67f40f1-06c2-40b1-b829-2e1825d46c1d",
   "metadata": {},
   "outputs": [],
   "source": [
    "import json\n",
    "from copy import deepcopy"
   ]
  },
  {
   "cell_type": "code",
   "execution_count": 2,
   "id": "7f880777-d98a-4bc6-a9c0-f8d399f59afa",
   "metadata": {},
   "outputs": [],
   "source": [
    "modelA_res_path = \"../../results/ppo_model/galactica-6.7b-ct2/test_with_citations.jsonl\"\n",
    "modelB_res_path = \"../../zero_shot_GPT-3.5-turbo/results/test_with_chatgpt_citations_merged.jsonl\""
   ]
  },
  {
   "cell_type": "code",
   "execution_count": 3,
   "id": "323957d3-6c6a-4e1d-8619-fc5936f2c5a5",
   "metadata": {},
   "outputs": [],
   "source": [
    "resA_list = [ json.loads(line) for line in open( modelA_res_path ) ]\n",
    "resB_list = [ json.loads(line) for line in open( modelB_res_path ) ]\n",
    "\n",
    "## verify that two lists are the same except for the generated_citations\n",
    "for resA, resB in zip( resA_list, resB_list ):\n",
    "    resA_copy = deepcopy( resA )\n",
    "    resB_copy = deepcopy( resB )\n",
    "    del resA_copy[\"generated_citations\"]\n",
    "    del resB_copy[\"generated_citations\"]\n",
    "\n",
    "    assert resA_copy == resB_copy"
   ]
  },
  {
   "cell_type": "code",
   "execution_count": 4,
   "id": "849a477c-e925-4225-8097-fe92e5fc2cd2",
   "metadata": {},
   "outputs": [],
   "source": [
    "res_compare_list = []\n",
    "for resA, resB in zip( resA_list, resB_list ):\n",
    "    res_compare = deepcopy( resA )\n",
    "    res_compare[\"generated_citations\"] = []\n",
    "    \n",
    "    ## we only compare the full-controlled mode\n",
    "    res_compare[\"generated_citations\"].append(\n",
    "        {\n",
    "            \"model\":resA[\"generated_citations\"][2][\"model\"],\n",
    "            \"generated_citation\":resA[\"generated_citations\"][2][\"generation\"][\"citation\"]\n",
    "        }\n",
    "    )\n",
    "    res_compare[\"generated_citations\"].append(\n",
    "        {\n",
    "            \"model\":resB[\"generated_citations\"][2][\"model\"],\n",
    "            \"generated_citation\":resB[\"generated_citations\"][2][\"generation\"][\"citation\"]\n",
    "        }\n",
    "    )\n",
    "    \n",
    "    res_compare_list.append( res_compare )\n",
    "    "
   ]
  },
  {
   "cell_type": "code",
   "execution_count": 5,
   "id": "58d3bb96-6a67-4069-864f-da20f0d89846",
   "metadata": {},
   "outputs": [],
   "source": [
    "with open(\"controlled_generation_comparison_results_galactica6.7B-PPO_ChatGPT.jsonl\",\"w\") as f:\n",
    "    for res_compare in res_compare_list:\n",
    "        f.write( json.dumps( res_compare ) + \"\\n\" )"
   ]
  },
  {
   "cell_type": "code",
   "execution_count": null,
   "id": "47f1f490-7074-4f80-9592-43fd9e9e1401",
   "metadata": {},
   "outputs": [],
   "source": []
  }
 ],
 "metadata": {
  "kernelspec": {
   "display_name": "Python [conda env:trl]",
   "language": "python",
   "name": "conda-env-trl-py"
  },
  "language_info": {
   "codemirror_mode": {
    "name": "ipython",
    "version": 3
   },
   "file_extension": ".py",
   "mimetype": "text/x-python",
   "name": "python",
   "nbconvert_exporter": "python",
   "pygments_lexer": "ipython3",
   "version": "3.10.11"
  }
 },
 "nbformat": 4,
 "nbformat_minor": 5
}
