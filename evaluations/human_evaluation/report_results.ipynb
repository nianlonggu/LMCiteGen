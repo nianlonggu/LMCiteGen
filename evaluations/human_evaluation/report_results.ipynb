{
 "cells": [
  {
   "cell_type": "code",
   "execution_count": 1,
   "id": "3121f214-378f-4590-9b05-338525430ff4",
   "metadata": {},
   "outputs": [],
   "source": [
    "import json\n",
    "import pandas as pd\n",
    "import numpy as np\n",
    "from scipy.stats import wilcoxon"
   ]
  },
  {
   "cell_type": "code",
   "execution_count": 2,
   "id": "a8c01229-030e-4864-ae18-1f872c300d56",
   "metadata": {},
   "outputs": [],
   "source": [
    "corpus = [ json.loads(line) for line in open(\"controlled_generation_comparison_results_galactica6.7B-PPO_ChatGPT.jsonl\") ] \n",
    "corpus = [ item for item in corpus if \"user_preference\" in item ]"
   ]
  },
  {
   "cell_type": "code",
   "execution_count": 3,
   "id": "3cbdecfc-7f66-4bac-98c7-28d3f106edd9",
   "metadata": {},
   "outputs": [
    {
     "data": {
      "text/plain": [
       "105"
      ]
     },
     "execution_count": 3,
     "metadata": {},
     "output_type": "execute_result"
    }
   ],
   "source": [
    "len(corpus)"
   ]
  },
  {
   "cell_type": "code",
   "execution_count": 4,
   "id": "1874b355-aaf2-4eeb-bed3-21e309603235",
   "metadata": {},
   "outputs": [],
   "source": [
    "model_A = corpus[0][\"generated_citations\"][0][\"model\"]\n",
    "model_B = corpus[0][\"generated_citations\"][1][\"model\"]"
   ]
  },
  {
   "cell_type": "code",
   "execution_count": 5,
   "id": "9327c119-9e13-4de7-b409-3698ba4b61b5",
   "metadata": {},
   "outputs": [],
   "source": [
    "all_metrics = [\"IAS\",\"KR\",\"FS\",\"Similarity\"]"
   ]
  },
  {
   "cell_type": "code",
   "execution_count": 6,
   "id": "1a0e3601-33cb-4ed8-9663-07e5234b6a89",
   "metadata": {},
   "outputs": [],
   "source": [
    "results = {}\n",
    "for metric in all_metrics:\n",
    "    results[metric] = {\n",
    "        model_A:[],\n",
    "        model_B:[],\n",
    "        \"Neutral\":[]\n",
    "    }"
   ]
  },
  {
   "cell_type": "code",
   "execution_count": 7,
   "id": "1c58c2cf-879c-4e01-a1ae-60ea869b6dd4",
   "metadata": {},
   "outputs": [],
   "source": [
    "for metric in all_metrics:\n",
    "    for example in corpus:\n",
    "        user_pref = example[\"user_preference\"][metric] \n",
    "        if user_pref is None:\n",
    "            user_pref = \"Neutral\"\n",
    "        else:\n",
    "            user_pref = example[\"generated_citations\"][user_pref][\"model\"]\n",
    "        \n",
    "        for model_name in results[metric]:\n",
    "            if model_name == user_pref:\n",
    "                results[metric][model_name].append(1)\n",
    "            else:\n",
    "                results[metric][model_name].append(0)"
   ]
  },
  {
   "cell_type": "code",
   "execution_count": 8,
   "id": "aa49d1ec-6957-4c0e-b204-5528cfb401f8",
   "metadata": {},
   "outputs": [
    {
     "name": "stdout",
     "output_type": "stream",
     "text": [
      "gpt-3.5-turbo-0301\tNeutral\t../rl_training/ppo_model/galactica-6.7b-ct2\n"
     ]
    }
   ],
   "source": [
    "print( \"\\t\".join( [ model_A,  \"Neutral\", model_B ] ) )"
   ]
  },
  {
   "cell_type": "code",
   "execution_count": 9,
   "id": "ff7e896d-9ec0-488a-8046-eb4e3a71ca2c",
   "metadata": {},
   "outputs": [
    {
     "name": "stdout",
     "output_type": "stream",
     "text": [
      "IAS:\n",
      "17.1 & 57.1 & 25.7\n",
      "WilcoxonResult(statistic=414.0, pvalue=0.17971249487899976)\n",
      "KR:\n",
      "15.2 & 67.6 & 17.1\n",
      "WilcoxonResult(statistic=280.0, pvalue=0.7316005889599013)\n",
      "FS:\n",
      "34.3 & 50.5 & 15.2\n",
      "WilcoxonResult(statistic=424.0, pvalue=0.005545667315244056)\n",
      "Similarity:\n",
      "24.8 & 30.5 & 44.8\n",
      "WilcoxonResult(statistic=962.0, pvalue=0.013976605613143215)\n"
     ]
    }
   ],
   "source": [
    "for metric in all_metrics:\n",
    "    print(metric+\":\")\n",
    "    print( \" & \".join( [  \"%.1f\"%(np.round(np.mean( results[metric][model_name] ) * 100 ,1))  for model_name in [ model_A,  \"Neutral\", model_B ] ] )  )\n",
    "    \n",
    "    res = wilcoxon( np.array( results[metric][model_A] ) -  np.array( results[metric][model_B] ) )\n",
    "    print(res)"
   ]
  },
  {
   "cell_type": "code",
   "execution_count": null,
   "id": "19518d1f-d699-4d4a-8562-a4564ad03e9c",
   "metadata": {},
   "outputs": [],
   "source": []
  }
 ],
 "metadata": {
  "kernelspec": {
   "display_name": "Python 3 (ipykernel)",
   "language": "python",
   "name": "python3"
  },
  "language_info": {
   "codemirror_mode": {
    "name": "ipython",
    "version": 3
   },
   "file_extension": ".py",
   "mimetype": "text/x-python",
   "name": "python",
   "nbconvert_exporter": "python",
   "pygments_lexer": "ipython3",
   "version": "3.7.13"
  }
 },
 "nbformat": 4,
 "nbformat_minor": 5
}
